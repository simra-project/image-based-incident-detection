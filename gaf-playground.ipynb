{
 "cells": [
  {
   "cell_type": "code",
   "execution_count": null,
   "source": [
    "# install dependencies\n",
    "\n",
    "# !pip install numpy==1.19.5\n",
    "# !pip install pandas\n",
    "# !pip install matplotlib\n",
    "# !pip install seaborn\n",
    "# !pip install numba\n",
    "# !pip install joblib\n",
    "# !pip install ipywidgets\n",
    "# !pip install scikit-learn\n",
    "# !conda install -y -c conda-forge pyts"
   ],
   "outputs": [],
   "metadata": {}
  },
  {
   "cell_type": "code",
   "execution_count": 213,
   "source": [
    "from pyts.image import GramianAngularField\n",
    "import numpy as np\n",
    "import matplotlib.pyplot as plt"
   ],
   "outputs": [],
   "metadata": {}
  },
  {
   "cell_type": "code",
   "execution_count": 214,
   "source": [
    "data = [\n",
    "  [2, 4, 2, 4, 2, 4, 2, 4, 2, 4],\n",
    "  [1, 2, 1, 2, 1, 2, 1, 2, 1, 2],\n",
    "  [1, 1, 1, 1, 1, 1, 1, 1, 1, 1],\n",
    "  [1, 2, 4, 1, 2, 4, 1, 2, 4, 1]]\n",
    "nump = np.array(data)\n",
    "nump"
   ],
   "outputs": [
    {
     "output_type": "execute_result",
     "data": {
      "text/plain": [
       "array([[2, 4, 2, 4, 2, 4, 2, 4, 2, 4],\n",
       "       [1, 2, 1, 2, 1, 2, 1, 2, 1, 2],\n",
       "       [1, 1, 1, 1, 1, 1, 1, 1, 1, 1],\n",
       "       [1, 2, 4, 1, 2, 4, 1, 2, 4, 1]])"
      ]
     },
     "metadata": {},
     "execution_count": 214
    }
   ],
   "metadata": {}
  },
  {
   "cell_type": "code",
   "execution_count": 215,
   "source": [
    "gasf = GramianAngularField(method='summation')"
   ],
   "outputs": [],
   "metadata": {}
  },
  {
   "cell_type": "code",
   "execution_count": 216,
   "source": [
    "# (number of samples (i.e., two timeseries) and number of features (i.e., 10 measurements))\n",
    "nump.shape"
   ],
   "outputs": [
    {
     "output_type": "execute_result",
     "data": {
      "text/plain": [
       "(4, 10)"
      ]
     },
     "metadata": {},
     "execution_count": 216
    }
   ],
   "metadata": {}
  },
  {
   "cell_type": "code",
   "execution_count": 217,
   "source": [
    "result = gasf.fit_transform(nump)"
   ],
   "outputs": [],
   "metadata": {}
  },
  {
   "cell_type": "code",
   "execution_count": 218,
   "source": [
    "fig, axs = plt.subplots(1, 4, figsize=(15, 3))\n",
    "axs[0].imshow(result[0], cmap='rainbow', origin='lower')\n",
    "axs[1].imshow(result[1], cmap='rainbow', origin='lower')\n",
    "axs[2].imshow(result[2], cmap='rainbow', origin='lower')\n",
    "im = axs[3].imshow(result[3], cmap='rainbow', origin='lower')\n",
    "\n",
    "fig.colorbar(im, ax=axs.ravel().tolist())"
   ],
   "outputs": [
    {
     "output_type": "execute_result",
     "data": {
      "text/plain": [
       "<matplotlib.colorbar.Colorbar at 0x130604640>"
      ]
     },
     "metadata": {},
     "execution_count": 218
    },
    {
     "output_type": "display_data",
     "data": {
      "image/png": "[encoded data removed]",
      "text/plain": [
       "<Figure size 1080x216 with 5 Axes>"
      ]
     },
     "metadata": {
      "needs_background": "light"
     }
    }
   ],
   "metadata": {}
  },
  {
   "cell_type": "markdown",
   "source": [
    "# Create first and last image seperately to check whether it is important to create images together"
   ],
   "metadata": {}
  },
  {
   "cell_type": "code",
   "execution_count": 219,
   "source": [
    "nump_2 = nump[0].reshape(1, -1)\n",
    "gasf = GramianAngularField(method='summation')\n",
    "result_2 = gasf.fit_transform(nump_2)\n",
    "fig, axs = plt.subplots(1, 2, figsize=(7.5, 3))\n",
    "axs[0].imshow(result[0], cmap='rainbow', origin='lower')\n",
    "axs[1].imshow(result_2[0], cmap='rainbow', origin='lower')\n",
    "fig.colorbar(im, ax=axs.ravel().tolist())"
   ],
   "outputs": [
    {
     "output_type": "execute_result",
     "data": {
      "text/plain": [
       "<matplotlib.colorbar.Colorbar at 0x13095ed00>"
      ]
     },
     "metadata": {},
     "execution_count": 219
    },
    {
     "output_type": "display_data",
     "data": {
      "image/png": "[encoded data removed]",
      "text/plain": [
       "<Figure size 540x216 with 3 Axes>"
      ]
     },
     "metadata": {
      "needs_background": "light"
     }
    }
   ],
   "metadata": {}
  },
  {
   "cell_type": "code",
   "execution_count": 220,
   "source": [
    "nump_3 = nump[3].reshape(1, -1)\n",
    "gasf = GramianAngularField(method='summation')\n",
    "result_3 = gasf.fit_transform(nump_3)\n",
    "fig, axs = plt.subplots(1, 2, figsize=(7.5, 3))\n",
    "axs[0].imshow(result[3], cmap='rainbow', origin='lower')\n",
    "axs[1].imshow(result_3[0], cmap='rainbow', origin='lower')\n",
    "fig.colorbar(im, ax=axs.ravel().tolist())"
   ],
   "outputs": [
    {
     "output_type": "execute_result",
     "data": {
      "text/plain": [
       "<matplotlib.colorbar.Colorbar at 0x130a45820>"
      ]
     },
     "metadata": {},
     "execution_count": 220
    },
    {
     "output_type": "display_data",
     "data": {
      "image/png": "[encoded data removed]",
      "text/plain": [
       "<Figure size 540x216 with 3 Axes>"
      ]
     },
     "metadata": {
      "needs_background": "light"
     }
    }
   ],
   "metadata": {}
  },
  {
   "cell_type": "markdown",
   "source": [
    "# Create the three images again and set length to 10 for arrays that are longer"
   ],
   "metadata": {}
  },
  {
   "cell_type": "code",
   "execution_count": 223,
   "source": [
    "data_14 = [\n",
    "  [2, 4, 2, 4, 2, 4, 2, 4, 2, 4, 2, 4, 2, 4],\n",
    "  [1, 2, 1, 2, 1, 2, 1, 2, 1, 2, 1, 2, 1, 2],\n",
    "  [1, 1, 1, 1, 1, 1, 1, 1, 1, 1, 1, 1, 1, 1],\n",
    "  [1, 2, 4, 1, 2, 4, 1, 2, 4, 1, 2, 4, 1, 2]]\n",
    "nump_14 = np.array(data_14)\n",
    "gasf = GramianAngularField(method='summation', image_size=10)\n",
    "result_14 = gasf.fit_transform(nump_14)\n",
    "fig, axs = plt.subplots(1, 4, figsize=(15, 3))\n",
    "axs[0].imshow(result_14[0], cmap='rainbow', origin='lower')\n",
    "axs[1].imshow(result_14[1], cmap='rainbow', origin='lower')\n",
    "axs[2].imshow(result_14[2], cmap='rainbow', origin='lower')\n",
    "im = axs[3].imshow(result_14[3], cmap='rainbow', origin='lower')\n",
    "\n",
    "fig.colorbar(im, ax=axs.ravel().tolist())"
   ],
   "outputs": [
    {
     "output_type": "execute_result",
     "data": {
      "text/plain": [
       "<matplotlib.colorbar.Colorbar at 0x130f810a0>"
      ]
     },
     "metadata": {},
     "execution_count": 223
    },
    {
     "output_type": "display_data",
     "data": {
      "image/png": "[encoded data removed]",
      "text/plain": [
       "<Figure size 1080x216 with 5 Axes>"
      ]
     },
     "metadata": {
      "needs_background": "light"
     }
    }
   ],
   "metadata": {}
  },
  {
   "cell_type": "code",
   "execution_count": 224,
   "source": [
    "gasf = GramianAngularField(method='summation', image_size=14)\n",
    "result_14 = gasf.fit_transform(nump_14)\n",
    "fig, axs = plt.subplots(1, 4, figsize=(15, 3))\n",
    "axs[0].imshow(result_14[0], cmap='rainbow', origin='lower')\n",
    "axs[1].imshow(result_14[1], cmap='rainbow', origin='lower')\n",
    "axs[2].imshow(result_14[2], cmap='rainbow', origin='lower')\n",
    "im = axs[3].imshow(result_14[3], cmap='rainbow', origin='lower')\n",
    "\n",
    "fig.colorbar(im, ax=axs.ravel().tolist())"
   ],
   "outputs": [
    {
     "output_type": "execute_result",
     "data": {
      "text/plain": [
       "<matplotlib.colorbar.Colorbar at 0x131097340>"
      ]
     },
     "metadata": {},
     "execution_count": 224
    },
    {
     "output_type": "display_data",
     "data": {
      "image/png": "[encoded data removed]",
      "text/plain": [
       "<Figure size 1080x216 with 5 Axes>"
      ]
     },
     "metadata": {
      "needs_background": "light"
     }
    }
   ],
   "metadata": {}
  },
  {
   "cell_type": "code",
   "execution_count": null,
   "source": [],
   "outputs": [],
   "metadata": {}
  }
 ],
 "metadata": {
  "orig_nbformat": 4,
  "language_info": {
   "name": "python",
   "version": "3.9.7",
   "mimetype": "text/x-python",
   "codemirror_mode": {
    "name": "ipython",
    "version": 3
   },
   "pygments_lexer": "ipython3",
   "nbconvert_exporter": "python",
   "file_extension": ".py"
  },
  "kernelspec": {
   "name": "python3",
   "display_name": "Python 3.9.7 64-bit ('simra-fastai': conda)"
  },
  "interpreter": {
   "hash": "a10207fa19ecdecda4e6450180348c82d6aeb268056b4cd97b645cb91d0c602f"
  }
 },
 "nbformat": 4,
 "nbformat_minor": 2
}