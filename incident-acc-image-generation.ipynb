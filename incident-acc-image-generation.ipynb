{
 "cells": [
  {
   "cell_type": "code",
   "execution_count": 164,
   "source": [
    "# install dependencies\n",
    "\n",
    "# !pip install numpy==1.19.5\n",
    "# !pip install pandas\n",
    "# !pip install matplotlib\n",
    "# !pip install seaborn\n",
    "# !pip install numba\n",
    "# !pip install joblib\n",
    "# !pip install ipywidgets\n",
    "# !pip install scikit-learn\n",
    "# !conda install -y -c conda-forge pyts"
   ],
   "outputs": [],
   "metadata": {}
  },
  {
   "cell_type": "code",
   "execution_count": 165,
   "source": [
    "import pandas as pd\n",
    "import glob\n",
    "from io import StringIO, BytesIO\n",
    "import seaborn as sns\n",
    "from PIL import Image\n",
    "import matplotlib.pyplot as plt\n",
    "from mpl_toolkits.axes_grid1 import ImageGrid\n",
    "import numpy as np\n",
    "from pyts.image import GramianAngularField\n",
    "import random\n",
    "import os\n",
    "from ipywidgets import IntProgress\n",
    "from IPython.display import display\n",
    "import math\n",
    "\n",
    "sns.set()"
   ],
   "outputs": [],
   "metadata": {}
  },
  {
   "cell_type": "markdown",
   "source": [
    "# Read in Data of a single file"
   ],
   "metadata": {}
  },
  {
   "cell_type": "code",
   "execution_count": 166,
   "source": [
    "files = glob.glob('data/*/Rides/20*/*/VM2_*')\n",
    "len(files)"
   ],
   "outputs": [
    {
     "output_type": "execute_result",
     "data": {
      "text/plain": [
       "2320"
      ]
     },
     "metadata": {},
     "execution_count": 166
    }
   ],
   "metadata": {}
  },
  {
   "cell_type": "code",
   "execution_count": 167,
   "source": [
    "def create_dfs(ride_object):\n",
    "  lines = []\n",
    "\n",
    "  with open(ride_object['file'], 'r') as f:\n",
    "    lines = f.readlines()[1:] # drop first row\n",
    "\n",
    "  # find line that starts with =========\n",
    "  splitLine = -1\n",
    "  for line in lines:\n",
    "    if line.startswith('========='):\n",
    "      splitLine = lines.index(line)\n",
    "      break\n",
    "\n",
    "  incidents = lines[0:splitLine - 1]\n",
    "  ride = lines[splitLine + 2:] # there is again a version number below =========\n",
    "\n",
    "  ride_object['df_incidents'] = pd.read_csv(StringIO(''.join(incidents)), delimiter=',')\n",
    "  df_r = pd.read_csv(StringIO(''.join(ride)), delimiter=',')\n",
    "  df_r.dropna(subset = ['acc'], inplace=True) # only keep columns with acc\n",
    "  df_r.reset_index(inplace=True, drop=True)\n",
    "  # create a new column that combines accelerometer values\n",
    "  XYZ = (df_r['X'].abs() + df_r['Y'].abs() + df_r['Z'].abs()) / 3\n",
    "  df_r['XYZ'] = XYZ\n",
    "\n",
    "  ride_object['df_ride'] = df_r\n",
    "\n",
    "ride_object = {\n",
    "  'file': files[1]\n",
    "}\n",
    "\n",
    "print('Reading in ' + ride_object['file'])\n",
    "create_dfs(ride_object)\n",
    "\n",
    "ride_object['df_incidents']"
   ],
   "outputs": [
    {
     "output_type": "stream",
     "name": "stdout",
     "text": [
      "Reading in data/Berlin/Rides/2020/05/VM2_1921845460\n"
     ]
    },
    {
     "output_type": "execute_result",
     "data": {
      "text/html": [
       "<div>\n",
       "<style scoped>\n",
       "    .dataframe tbody tr th:only-of-type {\n",
       "        vertical-align: middle;\n",
       "    }\n",
       "\n",
       "    .dataframe tbody tr th {\n",
       "        vertical-align: top;\n",
       "    }\n",
       "\n",
       "    .dataframe thead th {\n",
       "        text-align: right;\n",
       "    }\n",
       "</style>\n",
       "<table border=\"1\" class=\"dataframe\">\n",
       "  <thead>\n",
       "    <tr style=\"text-align: right;\">\n",
       "      <th></th>\n",
       "      <th>key</th>\n",
       "      <th>lat</th>\n",
       "      <th>lon</th>\n",
       "      <th>ts</th>\n",
       "      <th>bike</th>\n",
       "      <th>childCheckBox</th>\n",
       "      <th>trailerCheckBox</th>\n",
       "      <th>pLoc</th>\n",
       "      <th>incident</th>\n",
       "      <th>i1</th>\n",
       "      <th>...</th>\n",
       "      <th>i3</th>\n",
       "      <th>i4</th>\n",
       "      <th>i5</th>\n",
       "      <th>i6</th>\n",
       "      <th>i7</th>\n",
       "      <th>i8</th>\n",
       "      <th>i9</th>\n",
       "      <th>scary</th>\n",
       "      <th>desc</th>\n",
       "      <th>i10</th>\n",
       "    </tr>\n",
       "  </thead>\n",
       "  <tbody>\n",
       "    <tr>\n",
       "      <th>0</th>\n",
       "      <td>1</td>\n",
       "      <td>52.487288</td>\n",
       "      <td>13.420933</td>\n",
       "      <td>1589368537517</td>\n",
       "      <td>2</td>\n",
       "      <td>0</td>\n",
       "      <td>0</td>\n",
       "      <td>0</td>\n",
       "      <td>7</td>\n",
       "      <td>0</td>\n",
       "      <td>...</td>\n",
       "      <td>0</td>\n",
       "      <td>0</td>\n",
       "      <td>0</td>\n",
       "      <td>0</td>\n",
       "      <td>1</td>\n",
       "      <td>0</td>\n",
       "      <td>0</td>\n",
       "      <td>0</td>\n",
       "      <td>NaN</td>\n",
       "      <td>0</td>\n",
       "    </tr>\n",
       "  </tbody>\n",
       "</table>\n",
       "<p>1 rows × 21 columns</p>\n",
       "</div>"
      ],
      "text/plain": [
       "   key        lat        lon             ts  bike  childCheckBox  \\\n",
       "0    1  52.487288  13.420933  1589368537517     2              0   \n",
       "\n",
       "   trailerCheckBox  pLoc  incident  i1  ...  i3  i4  i5  i6  i7  i8  i9  \\\n",
       "0                0     0         7   0  ...   0   0   0   0   1   0   0   \n",
       "\n",
       "   scary  desc  i10  \n",
       "0      0   NaN    0  \n",
       "\n",
       "[1 rows x 21 columns]"
      ]
     },
     "metadata": {},
     "execution_count": 167
    }
   ],
   "metadata": {}
  },
  {
   "cell_type": "code",
   "execution_count": 168,
   "source": [
    "ride_object['df_ride'].shape[0]"
   ],
   "outputs": [
    {
     "output_type": "execute_result",
     "data": {
      "text/plain": [
       "56"
      ]
     },
     "metadata": {},
     "execution_count": 168
    }
   ],
   "metadata": {}
  },
  {
   "cell_type": "code",
   "execution_count": 169,
   "source": [
    "def check_ride_valid(ride_object):\n",
    "  df_r = ride_object['df_ride']\n",
    "  df_i = ride_object['df_incidents']\n",
    "\n",
    "  # check whether at least one incident\n",
    "  if df_i.shape[0] == 0:\n",
    "    return False\n",
    "\n",
    "  for timestamp in df_i['ts'].tolist():\n",
    "    inc_idx = df_i[df_i['ts'] == timestamp].index\n",
    "\n",
    "    # check whether timestamp is nan (then this is not a real incident)\n",
    "    if timestamp == 0 or math.isnan(timestamp):\n",
    "      df_i.drop(inc_idx, inplace=True)\n",
    "      continue\n",
    "\n",
    "    ride_idx = df_r[df_r['timeStamp'] == timestamp].index\n",
    "\n",
    "    # check if incident is in rides dataframe based on timeStamp (only once!)\n",
    "    if (len(ride_idx) != 1):\n",
    "      df_i.drop(inc_idx, inplace=True)\n",
    "      continue\n",
    "\n",
    "    # check whether timestamp is not at the start of the ride\n",
    "    if (ride_idx[0] < 20):\n",
    "      df_i.drop(inc_idx, inplace=True)\n",
    "      continue\n",
    "\n",
    "  # check whether still at least one incident\n",
    "  if df_i.shape[0] == 0:\n",
    "    return False\n",
    "\n",
    "  return True\n",
    "\n",
    "check_ride_valid(ride_object)"
   ],
   "outputs": [
    {
     "output_type": "execute_result",
     "data": {
      "text/plain": [
       "True"
      ]
     },
     "metadata": {},
     "execution_count": 169
    }
   ],
   "metadata": {}
  },
  {
   "cell_type": "code",
   "execution_count": 170,
   "source": [
    "def calculate_ride_indices_with_incidents(ride_object):\n",
    "  df_i = ride_object['df_incidents']\n",
    "  df_r = ride_object['df_ride']\n",
    "\n",
    "  indices = []\n",
    "  for timestamp in df_i['ts'].tolist():\n",
    "    indices.append(df_r[df_r['timeStamp'] == timestamp].index[0])\n",
    "  \n",
    "  ride_object['ride_indices_with_incidents'] = indices\n",
    "\n",
    "calculate_ride_indices_with_incidents(ride_object)\n",
    "ride_object['ride_indices_with_incidents']"
   ],
   "outputs": [
    {
     "output_type": "execute_result",
     "data": {
      "text/plain": [
       "[44]"
      ]
     },
     "metadata": {},
     "execution_count": 170
    }
   ],
   "metadata": {}
  },
  {
   "cell_type": "code",
   "execution_count": 171,
   "source": [
    "def create_and_label_windows(ride_object, timeseries_length):\n",
    "  df_r = ride_object['df_ride']\n",
    "\n",
    "  ts_windows = []\n",
    "  ts_hasIndicents = []\n",
    "\n",
    "  for i, window in enumerate(df_r[['timeStamp', 'XYZ']].rolling(window=timeseries_length)):\n",
    "    if i < timeseries_length:\n",
    "      continue # we only want full windows, the first timeseries_lenght windows are missing values\n",
    "\n",
    "    hasIndicent = False\n",
    "\n",
    "    # check if any of the window's indices is in ride_indices_with_incidents\n",
    "    for ri_inc in ride_object['ride_indices_with_incidents']:\n",
    "      min_i = window.index.min()\n",
    "      max_i = window.index.max()\n",
    "\n",
    "      if min_i <= ri_inc <= max_i:\n",
    "        hasIndicent = True\n",
    "      \n",
    "    ts_windows.append(np.array(window['XYZ']))\n",
    "    ts_hasIndicents.append(hasIndicent)\n",
    "\n",
    "  ride_object['ts_windows'] = ts_windows\n",
    "  ride_object['ts_hasIncidents'] = ts_hasIndicents\n",
    "    \n",
    "create_and_label_windows(ride_object, 10)\n",
    "# print number of windows with incidents\n",
    "len(list(filter(lambda x: x, ride_object['ts_hasIncidents'])))"
   ],
   "outputs": [
    {
     "output_type": "execute_result",
     "data": {
      "text/plain": [
       "10"
      ]
     },
     "metadata": {},
     "execution_count": 171
    }
   ],
   "metadata": {}
  },
  {
   "cell_type": "code",
   "execution_count": 172,
   "source": [
    "# print number of windows without incidents\n",
    "len(list(filter(lambda x: not x, ride_object['ts_hasIncidents'])))"
   ],
   "outputs": [
    {
     "output_type": "execute_result",
     "data": {
      "text/plain": [
       "36"
      ]
     },
     "metadata": {},
     "execution_count": 172
    }
   ],
   "metadata": {}
  },
  {
   "cell_type": "code",
   "execution_count": 173,
   "source": [
    "def apply_mask(data, selectors, take_0=False):\n",
    "    if take_0:\n",
    "      return list((d for d, s in zip(data, selectors) if not s))\n",
    "    else:\n",
    "      return list((d for d, s in zip(data, selectors) if s))\n",
    "\n",
    "len(apply_mask(ride_object['ts_windows'], ride_object['ts_hasIncidents'], True))"
   ],
   "outputs": [
    {
     "output_type": "execute_result",
     "data": {
      "text/plain": [
       "36"
      ]
     },
     "metadata": {},
     "execution_count": 173
    }
   ],
   "metadata": {}
  },
  {
   "cell_type": "code",
   "execution_count": 174,
   "source": [
    "# plot a window\n",
    "sns.lineplot(data=ride_object['ts_windows'][10])"
   ],
   "outputs": [
    {
     "output_type": "execute_result",
     "data": {
      "text/plain": [
       "<AxesSubplot:>"
      ]
     },
     "metadata": {},
     "execution_count": 174
    },
    {
     "output_type": "display_data",
     "data": {
      "image/png": "[encoded data removed]",
      "text/plain": [
       "<Figure size 432x288 with 1 Axes>"
      ]
     },
     "metadata": {}
    }
   ],
   "metadata": {}
  },
  {
   "cell_type": "markdown",
   "source": [
    "# Write train and test data to file, select same amount of train and test"
   ],
   "metadata": {}
  },
  {
   "cell_type": "code",
   "execution_count": 175,
   "source": [
    "def create_gasf(ride_object):\n",
    "  ts_w = ride_object['ts_windows']\n",
    "  ts_hI = ride_object['ts_hasIncidents']\n",
    "\n",
    "  ts_has_incident = apply_mask(ts_w, ts_hI)\n",
    "  ts_no_incident = apply_mask(ts_w, ts_hI, True)\n",
    "\n",
    "  # we only want as many no_incident as has_incident\n",
    "  ts_no_incident = random.sample(ts_no_incident, len(ts_has_incident))\n",
    "\n",
    "  # numpy\n",
    "  np_hI = np.array(ts_has_incident)\n",
    "  np_nI = np.array(ts_no_incident)\n",
    "\n",
    "  # create gasf\n",
    "  gasf = GramianAngularField(method='summation')\n",
    "  ride_object['gasf_hasIncident'] = gasf.fit_transform(np_hI)\n",
    "  ride_object['gasf_noIncident'] = gasf.fit_transform(np_nI)\n",
    "\n",
    "create_gasf(ride_object)\n",
    "plt.imshow(ride_object['gasf_hasIncident'][0], cmap='rainbow', origin='lower')"
   ],
   "outputs": [
    {
     "output_type": "execute_result",
     "data": {
      "text/plain": [
       "<matplotlib.image.AxesImage at 0x14b2fe220>"
      ]
     },
     "metadata": {},
     "execution_count": 175
    },
    {
     "output_type": "display_data",
     "data": {
      "image/png": "[encoded data removed]",
      "text/plain": [
       "<Figure size 432x288 with 1 Axes>"
      ]
     },
     "metadata": {}
    }
   ],
   "metadata": {}
  },
  {
   "cell_type": "code",
   "execution_count": 176,
   "source": [
    "def store_image(gasf_result, output_path):\n",
    "  buffer = BytesIO()\n",
    "\n",
    "  plt.figure()\n",
    "  plt.imshow(gasf_result, cmap='rainbow', origin='lower')\n",
    "  plt.axis('off')\n",
    "\n",
    "  plt.savefig(buffer, bbox_inches='tight')\n",
    "  plt.close()\n",
    "\n",
    "  buffer.seek(0)\n",
    "  os.makedirs(os.path.dirname(output_path), exist_ok=True)\n",
    "  Image.open(buffer).save(output_path)\n",
    "\n",
    "def create_images(ride_object):\n",
    "  for i, im in enumerate(ride_object['gasf_hasIncident']): \n",
    "    path = 'images/' + ride_object['file'].replace('data', '') + '*' + str(i) + '*true*' + '.png'\n",
    "    store_image(im, path)\n",
    "\n",
    "  for i, im in enumerate(ride_object['gasf_noIncident']): \n",
    "    path = 'images/' + ride_object['file'].replace('data', '') + '*' + str(i) + '*false*' + '.png'\n",
    "    store_image(im, path)\n",
    "\n",
    "create_images(ride_object)"
   ],
   "outputs": [],
   "metadata": {}
  },
  {
   "cell_type": "code",
   "execution_count": 177,
   "source": [
    "tmp_files = files\n",
    "\n",
    "f = IntProgress(min=0, max=len(tmp_files)) # instantiate the bar\n",
    "display(f) # display the bar\n",
    "\n",
    "discarded = 0\n",
    "for i, file in enumerate(tmp_files):\n",
    "    f.value += 1 # signal to increment the progress bar\n",
    "\n",
    "    ride_object = {\n",
    "        'file': file\n",
    "    }\n",
    "\n",
    "    create_dfs(ride_object)\n",
    "    if not check_ride_valid(ride_object):\n",
    "        discarded+=1\n",
    "        continue\n",
    "    calculate_ride_indices_with_incidents(ride_object)\n",
    "    create_and_label_windows(ride_object, 10)\n",
    "    create_gasf(ride_object)\n",
    "    create_images(ride_object)\n",
    "\n",
    "print('Discarded {0!s}/{1!s} rides'.format(discarded, len(tmp_files)))"
   ],
   "outputs": [
    {
     "output_type": "display_data",
     "data": {
      "application/vnd.jupyter.widget-view+json": {
       "version_major": 2,
       "version_minor": 0,
       "model_id": "9835c057bd964d5c96e946f71380dddd"
      },
      "text/plain": [
       "IntProgress(value=0, max=2320)"
      ]
     },
     "metadata": {}
    },
    {
     "output_type": "stream",
     "name": "stdout",
     "text": [
      "Discarded 2133/2320 rides\n"
     ]
    }
   ],
   "metadata": {}
  },
  {
   "cell_type": "code",
   "execution_count": 178,
   "source": [
    "i"
   ],
   "outputs": [
    {
     "output_type": "execute_result",
     "data": {
      "text/plain": [
       "2319"
      ]
     },
     "metadata": {},
     "execution_count": 178
    }
   ],
   "metadata": {}
  }
 ],
 "metadata": {
  "orig_nbformat": 4,
  "language_info": {
   "name": "python",
   "version": "3.9.7",
   "mimetype": "text/x-python",
   "codemirror_mode": {
    "name": "ipython",
    "version": 3
   },
   "pygments_lexer": "ipython3",
   "nbconvert_exporter": "python",
   "file_extension": ".py"
  },
  "kernelspec": {
   "name": "python3",
   "display_name": "Python 3.9.7 64-bit ('simra-fastai': conda)"
  },
  "interpreter": {
   "hash": "a10207fa19ecdecda4e6450180348c82d6aeb268056b4cd97b645cb91d0c602f"
  }
 },
 "nbformat": 4,
 "nbformat_minor": 2
}